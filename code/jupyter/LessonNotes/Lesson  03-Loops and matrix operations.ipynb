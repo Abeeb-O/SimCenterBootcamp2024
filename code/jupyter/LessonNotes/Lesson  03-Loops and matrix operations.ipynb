{
 "cells": [
  {
   "cell_type": "markdown",
   "metadata": {},
   "source": [
    "# A Python Quick Start Tutorial\n",
    "# Lesson \\#3: Loops & Matrix Operations\n",
    "## by Peter Mackenzie-Helnwein\n",
    "University of Washington, Seattle, WA\n",
    "\n",
    "pmackenz@uw.edu          \n",
    "https://www.ce.washington.edu/facultyfinder/peter-mackenzie-helnwein"
   ]
  },
  {
   "cell_type": "markdown",
   "metadata": {},
   "source": [
    "## Resources (reminder)\n",
    "\n",
    "   1. Python Docs: https://docs.python.org/3/\n",
    "   \n",
    "   1. Python Tutorial (comprehensive): https://docs.python.org/3/tutorial/index.html\n",
    "   \n",
    "   1. Python Library Reference (the nitty-gritty details): https://docs.python.org/3/library/index.html\n",
    "   \n",
    "   1. Everything else: http://google.com\n",
    "   "
   ]
  },
  {
   "cell_type": "markdown",
   "metadata": {},
   "source": [
    "## Discussing questions from the self-study assignment\n",
    "\n",
    "This section is to discuss your questions\n"
   ]
  },
  {
   "cell_type": "markdown",
   "metadata": {},
   "source": [
    "### Exercise 1: Looping over dictionaries\n",
    "\n",
    "**Given**:\n",
    "A dictionary `your_course` is given as follows (please do a `shift-enter` to initialize it)"
   ]
  },
  {
   "cell_type": "code",
   "execution_count": 17,
   "metadata": {},
   "outputs": [],
   "source": [
    "your_course = {\n",
    "               'department':'CEE',\n",
    "               'group':     'CESG',\n",
    "               'number':    '505 A&B',\n",
    "               'complexity': 10,\n",
    "               'workload':    0,\n",
    "               'credits':     3,\n",
    "               'instructor':'Dr Peter'\n",
    "              }"
   ]
  },
  {
   "cell_type": "markdown",
   "metadata": {},
   "source": [
    "**Your tasks**:\n",
    "1. Write a loop to print all keys, one per line"
   ]
  },
  {
   "cell_type": "code",
   "execution_count": 18,
   "metadata": {},
   "outputs": [
    {
     "name": "stdout",
     "output_type": "stream",
     "text": [
      "department   => CEE\n",
      "group        => CESG\n",
      "number       => 505 A&B\n",
      "complexity   => 10\n",
      "workload     => 0\n",
      "credits      => 3\n",
      "instructor   => Dr Peter\n"
     ]
    }
   ],
   "source": [
    "for key in your_course:\n",
    "    print(f\"{key:12} => {your_course[key]}\")"
   ]
  },
  {
   "cell_type": "markdown",
   "metadata": {},
   "source": [
    "2. Change complexity to 6 and workload to 8"
   ]
  },
  {
   "cell_type": "code",
   "execution_count": 19,
   "metadata": {},
   "outputs": [],
   "source": [
    "your_course['complexity'] = 6\n",
    "your_course['workload'] = 8"
   ]
  },
  {
   "cell_type": "markdown",
   "metadata": {},
   "source": [
    "3. copy and modify the loop from 1. to print \"key: value\", one per line"
   ]
  },
  {
   "cell_type": "code",
   "execution_count": 20,
   "metadata": {},
   "outputs": [
    {
     "name": "stdout",
     "output_type": "stream",
     "text": [
      "department   => CEE\n",
      "group        => CESG\n",
      "number       => 505 A&B\n",
      "complexity   => 6\n",
      "workload     => 8\n",
      "credits      => 3\n",
      "instructor   => Dr Peter\n"
     ]
    }
   ],
   "source": [
    "for key in your_course:\n",
    "    print(f\"{key:12} => {your_course[key]}\")"
   ]
  },
  {
   "cell_type": "markdown",
   "metadata": {},
   "source": [
    "4. Write a condition that checks if `your_course` has a field named `'expected_grade'`.\n",
    "    - If the field DOES exist, print **\"Field exists with value of {:3.1f}\".format(_the value associated with that key_)\"**\n",
    "    - If the field DOES NOT exist, create it and assign a sensible value, the print **\"Field created with value of {:3.1f}\".format(_the value associated with that key_)\"**"
   ]
  },
  {
   "cell_type": "code",
   "execution_count": 21,
   "metadata": {},
   "outputs": [
    {
     "name": "stdout",
     "output_type": "stream",
     "text": [
      "Field created with value of 4.0\n"
     ]
    }
   ],
   "source": [
    "if 'expected_grade' in your_course:\n",
    "    print( \"Field exists with value of {:3.1f}\".format(your_course['expected_grade']) )\n",
    "else:\n",
    "    your_course['expected_grade'] = 4.0\n",
    "    print( \"Field created with value of {:3.1f}\".format(your_course['expected_grade']) )"
   ]
  },
  {
   "cell_type": "markdown",
   "metadata": {},
   "source": [
    "Execute the above code again to verify that the new key/value pair was added"
   ]
  },
  {
   "cell_type": "code",
   "execution_count": 22,
   "metadata": {},
   "outputs": [
    {
     "name": "stdout",
     "output_type": "stream",
     "text": [
      "Field exists with value of 4.0\n"
     ]
    }
   ],
   "source": [
    "if 'expected_grade' in your_course:\n",
    "    print( \"Field exists with value of {:3.1f}\".format(your_course['expected_grade']) )\n",
    "else:\n",
    "    your_course['expected_grade'] = 4.0\n",
    "    print( \"Field created with value of {:3.1f}\".format(your_course['expected_grade']) )"
   ]
  },
  {
   "cell_type": "markdown",
   "metadata": {},
   "source": [
    "### Exercise 2: Looping over Strings\n",
    "\n",
    "Strings are \"Lists of characters\". Thus, you can loop through a string.\n",
    "\n",
    "Moreover, multi-line text is also just a single string with newline characters ('\\n') separating lines.\n",
    "\n",
    "Consider the following string (a poem by Phillis Wheatley, the first African-American author of a published book of poetry):"
   ]
  },
  {
   "cell_type": "code",
   "execution_count": 55,
   "metadata": {},
   "outputs": [],
   "source": [
    "s = \"\"\"'Twas mercy brought me from my Pagan land,\n",
    "Taught my benighted soul to understand\n",
    "That there's a God, that there's a Saviour too:\n",
    "Once I redemption neither sought nor knew.\n",
    "Some view our sable race with scornful eye,\n",
    "\"Their colour is a diabolic die.\"\n",
    "Remember, Christians, Negros, black as Cain,\n",
    "May be refin'd, and join th' angelic train.\n",
    "\n",
    "            BY PHILLIS WHEATLEY\"\"\""
   ]
  },
  {
   "cell_type": "markdown",
   "metadata": {},
   "source": [
    "We used `\"\"\"...\"\"\"` to define a multi-line string.  While this looks nice, it is still a single string as can be verified by the next command."
   ]
  },
  {
   "cell_type": "code",
   "execution_count": 56,
   "metadata": {},
   "outputs": [
    {
     "data": {
      "text/plain": [
       "'\\'Twas mercy brought me from my Pagan land,\\nTaught my benighted soul to understand\\nThat there\\'s a God, that there\\'s a Saviour too:\\nOnce I redemption neither sought nor knew.\\nSome view our sable race with scornful eye,\\n\"Their colour is a diabolic die.\"\\nRemember, Christians, Negros, black as Cain,\\nMay be refin\\'d, and join th\\' angelic train.\\n\\n            BY PHILLIS WHEATLEY'"
      ]
     },
     "execution_count": 56,
     "metadata": {},
     "output_type": "execute_result"
    }
   ],
   "source": [
    "s"
   ]
  },
  {
   "cell_type": "markdown",
   "metadata": {},
   "source": [
    "Note the `\\n` in this string?  This example actually shows the difference between just typing the variable `s` (above) or using the `print()` command."
   ]
  },
  {
   "cell_type": "code",
   "execution_count": 57,
   "metadata": {},
   "outputs": [
    {
     "name": "stdout",
     "output_type": "stream",
     "text": [
      "'Twas mercy brought me from my Pagan land,\n",
      "Taught my benighted soul to understand\n",
      "That there's a God, that there's a Saviour too:\n",
      "Once I redemption neither sought nor knew.\n",
      "Some view our sable race with scornful eye,\n",
      "\"Their colour is a diabolic die.\"\n",
      "Remember, Christians, Negros, black as Cain,\n",
      "May be refin'd, and join th' angelic train.\n",
      "\n",
      "            BY PHILLIS WHEATLEY\n"
     ]
    }
   ],
   "source": [
    "print(s)"
   ]
  },
  {
   "cell_type": "code",
   "execution_count": 58,
   "metadata": {},
   "outputs": [
    {
     "name": "stdout",
     "output_type": "stream",
     "text": [
      "'-T-w-a-s- -m-e-r-c-y- -b-r-o-u-g-h-t- -m-e- -f-r-o-m- -m-y- -P-a-g-a-n- -l-a-n-d-,-\n",
      "-T-a-u-g-h-t- -m-y- -b-e-n-i-g-h-t-e-d- -s-o-u-l- -t-o- -u-n-d-e-r-s-t-a-n-d-\n",
      "-T-h-a-t- -t-h-e-r-e-'-s- -a- -G-o-d-,- -t-h-a-t- -t-h-e-r-e-'-s- -a- -S-a-v-i-o-u-r- -t-o-o-:-\n",
      "-O-n-c-e- -I- -r-e-d-e-m-p-t-i-o-n- -n-e-i-t-h-e-r- -s-o-u-g-h-t- -n-o-r- -k-n-e-w-.-\n",
      "-S-o-m-e- -v-i-e-w- -o-u-r- -s-a-b-l-e- -r-a-c-e- -w-i-t-h- -s-c-o-r-n-f-u-l- -e-y-e-,-\n",
      "-\"-T-h-e-i-r- -c-o-l-o-u-r- -i-s- -a- -d-i-a-b-o-l-i-c- -d-i-e-.-\"-\n",
      "-R-e-m-e-m-b-e-r-,- -C-h-r-i-s-t-i-a-n-s-,- -N-e-g-r-o-s-,- -b-l-a-c-k- -a-s- -C-a-i-n-,-\n",
      "-M-a-y- -b-e- -r-e-f-i-n-'-d-,- -a-n-d- -j-o-i-n- -t-h-'- -a-n-g-e-l-i-c- -t-r-a-i-n-.-\n",
      "-\n",
      "- - - - - - - - - - - - -B-Y- -P-H-I-L-L-I-S- -W-H-E-A-T-L-E-Y-"
     ]
    }
   ],
   "source": [
    "for c in s:\n",
    "    print(c,end='-')"
   ]
  },
  {
   "cell_type": "markdown",
   "metadata": {},
   "source": [
    "**Your task**:\n",
    "Write code that counts and outputs\n",
    "1. The number of lines in the string `s`.\n",
    "2. The number of non-whitespace characters (whitespace is `' '`, `'\\t'` (tab), `'\\n'` (newline)\n",
    "3. The number of words."
   ]
  },
  {
   "cell_type": "markdown",
   "metadata": {},
   "source": [
    "s = \"\"\"May be refin'd, and join th' angelic train.\n",
    "      \n",
    "            BY PHILLIS WHEATLEY\"\"\"\n",
    "\n",
    "print(s)"
   ]
  },
  {
   "cell_type": "code",
   "execution_count": 59,
   "metadata": {},
   "outputs": [
    {
     "name": "stdout",
     "output_type": "stream",
     "text": [
      "Found 10 lines\n",
      "Found 299 printable characters\n",
      "Found 61 words\n"
     ]
    }
   ],
   "source": [
    "# list of white space chars (tuple, actually)\n",
    "whitespace = (' ','\\n','\\t','\\0')\n",
    "\n",
    "# initialize counters\n",
    "num_lines = 1\n",
    "num_chars = 0\n",
    "num_words = 0\n",
    "\n",
    "# do the counting\n",
    "\n",
    "previous_c = ''\n",
    "\n",
    "for c in s:\n",
    "    if c == '\\n':\n",
    "        num_lines += 1\n",
    "    if c not in whitespace:  \n",
    "        # c is a character\n",
    "        num_chars += 1\n",
    "    else: \n",
    "        # c is a white space\n",
    "        if previous_c not in whitespace:\n",
    "            num_words += 1\n",
    "    previous_c = c\n",
    "    \n",
    "if previous_c not in whitespace:\n",
    "    num_words += 1\n",
    "        \n",
    "print(\"Found {} lines\".format(num_lines))\n",
    "print(\"Found {} printable characters\".format(num_chars))\n",
    "print(\"Found {} words\".format(num_words))"
   ]
  },
  {
   "cell_type": "markdown",
   "metadata": {},
   "source": [
    "### Exercise 3: Some linear algebra\n",
    "\n",
    "**Theory**: \n",
    "The eigenvalue problem for a symmetric matrix ${\\bf A}$ is defined as\n",
    "$$\n",
    "    ({\\bf A}-\\lambda_i {\\bf 1})\\,{\\bf n_i} = {\\bf 0}\n",
    "$$\n",
    "where $\\lambda_i$ is the $i^{th}$ eigenvalue and ${\\bf n}$ is the  $i^{th}$ eigenvector.\n",
    "\n",
    "Pre-multiplying this equation with the eigenvector yields\n",
    "$$\n",
    "    {\\bf n_i}\\cdot({\\bf A}-\\lambda_i {\\bf 1})\\,{\\bf n_i} = 0\n",
    "    \\quad\\Rightarrow\\quad\n",
    "    \\lambda_i = \\frac{{\\bf n_i}\\cdot{\\bf A}\\cdot{\\bf n_i}}{{\\bf n_i}\\cdot{\\bf n_i}}\n",
    "$$\n",
    "The expression for $\\lambda_i$ is the _Rayleigh coefficient_.\n",
    "\n",
    "**Your tasks**:\n",
    "1. use `numpy.linalg.eig` to solve to find eigenvalues and eigenvectors of the given matrix ${\\bf A}$\n",
    "2. in a loop, verify that the _Rayleigh coefficient_ indeed yields the eigenvalues.\n",
    "3. test, whether or not the following expression is true\n",
    "   $$\n",
    "      \\text{for}~~{\\bf v}=\\frac{\\sqrt{2}}{2}({\\bf n}_1+{\\bf n}_2)\n",
    "      \\quad\\to\\quad\n",
    "      \\frac{{\\bf v}\\cdot{\\bf A}\\cdot{\\bf v}}{{\\bf v}\\cdot{\\bf v}} = \\frac{\\lambda_1 + \\lambda_2}{2}\n",
    "   $$\n",
    "   whill this result hold for ${\\bf v}=({\\bf n}_1+{\\bf n}_2)$?"
   ]
  },
  {
   "cell_type": "code",
   "execution_count": 62,
   "metadata": {},
   "outputs": [
    {
     "name": "stdout",
     "output_type": "stream",
     "text": [
      "[1.0, 2.0, 3]\n",
      "[1. 2. 3.]\n"
     ]
    }
   ],
   "source": [
    "from numpy import array\n",
    "\n",
    "lvec = [1.,2.,3]\n",
    "print(lvec)\n",
    "vec = array( [1.,2.,3] )\n",
    "print(vec)"
   ]
  },
  {
   "cell_type": "code",
   "execution_count": 63,
   "metadata": {},
   "outputs": [
    {
     "name": "stdout",
     "output_type": "stream",
     "text": [
      "[1.0, 2.0, 3, 1.0, 2.0, 3]\n",
      "[2. 4. 6.]\n"
     ]
    }
   ],
   "source": [
    "print(lvec + lvec)\n",
    "print(vec + vec)"
   ]
  },
  {
   "cell_type": "code",
   "execution_count": 67,
   "metadata": {},
   "outputs": [
    {
     "data": {
      "text/plain": [
       "2.0"
      ]
     },
     "execution_count": 67,
     "metadata": {},
     "output_type": "execute_result"
    }
   ],
   "source": [
    "vec[1]"
   ]
  },
  {
   "cell_type": "code",
   "execution_count": 114,
   "metadata": {},
   "outputs": [
    {
     "name": "stdout",
     "output_type": "stream",
     "text": [
      "[[3 2 1 0 0]\n",
      " [2 3 2 1 0]\n",
      " [1 2 3 2 1]\n",
      " [0 1 2 3 2]\n",
      " [0 0 1 2 3]]\n"
     ]
    }
   ],
   "source": [
    "# GIVEN ... please execute this cell to initialize A\n",
    "\n",
    "from numpy import array\n",
    "\n",
    "A = array(\n",
    "    [[3,2,1,0,0],\n",
    "     [2,3,2,1,0],\n",
    "     [1,2,3,2,1],\n",
    "     [0,1,2,3,2],\n",
    "     [0,0,1,2,3]]\n",
    ")\n",
    "\n",
    "B = [[3,2,1,0,0], [2,3,2,1,0], [1,2,3,2,1], [0,1,2,3,2], [0,0,1,2,3]]\n",
    "\n",
    "print(A)"
   ]
  },
  {
   "cell_type": "code",
   "execution_count": 115,
   "metadata": {},
   "outputs": [
    {
     "data": {
      "text/plain": [
       "1"
      ]
     },
     "execution_count": 115,
     "metadata": {},
     "output_type": "execute_result"
    }
   ],
   "source": [
    "B[1][3]"
   ]
  },
  {
   "cell_type": "code",
   "execution_count": 116,
   "metadata": {},
   "outputs": [
    {
     "data": {
      "text/plain": [
       "1"
      ]
     },
     "execution_count": 116,
     "metadata": {},
     "output_type": "execute_result"
    }
   ],
   "source": [
    "A[1,3]"
   ]
  },
  {
   "cell_type": "markdown",
   "metadata": {},
   "source": [
    "I define helper functions to compute the Rayleigh coefficient and to perform a relaxed floating point comparison"
   ]
  },
  {
   "cell_type": "code",
   "execution_count": 117,
   "metadata": {},
   "outputs": [],
   "source": [
    "def rayleigh(A,v):\n",
    "    ans = (v @ A @ v)/(v @ v)\n",
    "    return ans\n",
    "\n",
    "#def test_equal(a,b):\n",
    "#    if abs(b-a) < 1.e-12:\n",
    "#        return True\n",
    "#    else:\n",
    "#        return False\n",
    "\n",
    "def test_equal(a,b):\n",
    "    return ( abs(b-a) < 1.e-12 )"
   ]
  },
  {
   "cell_type": "code",
   "execution_count": 118,
   "metadata": {},
   "outputs": [
    {
     "name": "stdout",
     "output_type": "stream",
     "text": [
      "[0.43844719 0.59802377 1.74770274 4.56155281 7.65427349]\n",
      "[[ 4.35162146e-01  1.02801351e-01  6.17548407e-01  5.57345410e-01\n",
      "  -3.28733703e-01]\n",
      " [-5.57345410e-01 -4.82004424e-01 -1.78297793e-01  4.35162146e-01\n",
      "  -4.85676469e-01]\n",
      " [-1.60982339e-15  7.17082447e-01 -4.16758592e-01 -1.94289029e-16\n",
      "  -5.58663621e-01]\n",
      " [ 5.57345410e-01 -4.82004424e-01 -1.78297793e-01 -4.35162146e-01\n",
      "  -4.85676469e-01]\n",
      " [-4.35162146e-01  1.02801351e-01  6.17548407e-01 -5.57345410e-01\n",
      "  -3.28733703e-01]]\n"
     ]
    }
   ],
   "source": [
    "from numpy import sqrt\n",
    "from numpy.linalg import eig, eigh, norm\n",
    "\n",
    "# 1. *****************\n",
    "\n",
    "(lam, nvec) = eigh(A)\n",
    "\n",
    "# MAYBE SOME PRINT TO SEE HOW THE ANSWER LOOKS LIKE:\n",
    "print(lam)\n",
    "print(nvec)"
   ]
  },
  {
   "cell_type": "code",
   "execution_count": 119,
   "metadata": {},
   "outputs": [
    {
     "name": "stdout",
     "output_type": "stream",
     "text": [
      "0.4384471871911694\n",
      "[ 4.35162146e-01 -5.57345410e-01 -1.60982339e-15  5.57345410e-01\n",
      " -4.35162146e-01]\n",
      "[-2.77555756e-17 -9.15933995e-16 -1.29257891e-15 -3.33066907e-16\n",
      " -5.55111512e-17]\n",
      "1.6200249209257316e-15 True\n"
     ]
    }
   ],
   "source": [
    "lam1=lam[0]\n",
    "n1 = nvec[:,0]\n",
    "\n",
    "print(lam1)\n",
    "print(n1)\n",
    "\n",
    "test = A @ n1 - lam1 * n1\n",
    "print(test)\n",
    "\n",
    "print(norm(test), test_equal(norm(test), 0.0))\n"
   ]
  },
  {
   "cell_type": "code",
   "execution_count": 120,
   "metadata": {},
   "outputs": [
    {
     "name": "stdout",
     "output_type": "stream",
     "text": [
      "from eig:   0.438447187191 <=> Rayleigh:   0.438447187191   => True\n",
      "from eig:   0.598023766437 <=> Rayleigh:   0.598023766437   => True\n",
      "from eig:   1.747702740583 <=> Rayleigh:   1.747702740583   => True\n",
      "from eig:   4.561552812809 <=> Rayleigh:   4.561552812809   => True\n",
      "from eig:   7.654273492980 <=> Rayleigh:   7.654273492980   => True\n"
     ]
    }
   ],
   "source": [
    "# 2. *****************\n",
    "\n",
    "# format string: lambda from eig, Rayleigh coefficient, answer of comparison test_equal\n",
    "template = \"from eig: {:16.12f} <=> Rayleigh: {:16.12f}   => {}\"\n",
    "\n",
    "# YOUR CODE HERE ...\n",
    "for i in range(5):\n",
    "    ev = lam[i]\n",
    "    nv = nvec[:,i]\n",
    "\n",
    "    ll = rayleigh(A,nv)\n",
    "    print(template.format(ev,ll,test_equal(ev,ll)))"
   ]
  },
  {
   "cell_type": "markdown",
   "metadata": {},
   "source": [
    "3. test, whether or not the following expression is true\n",
    "   $$\n",
    "      \\text{for}~~{\\bf v}=\\frac{\\sqrt{2}}{2}({\\bf n}_1+{\\bf n}_2)\n",
    "      \\quad\\to\\quad\n",
    "      \\frac{{\\bf v}\\cdot{\\bf A}\\cdot{\\bf v}}{{\\bf v}\\cdot{\\bf v}} = \\frac{\\lambda_1 + \\lambda_2}{2}\n",
    "   $$\n",
    "   whill this result hold for ${\\bf v}=({\\bf n}_1+{\\bf n}_2)$?"
   ]
  },
  {
   "cell_type": "code",
   "execution_count": 121,
   "metadata": {},
   "outputs": [
    {
     "name": "stdout",
     "output_type": "stream",
     "text": [
      "from eig:   0.518235476814 <=> Rayleigh:   0.518235476814   => True\n"
     ]
    }
   ],
   "source": [
    "# 3  *****************\n",
    "\n",
    "import numpy as np\n",
    "\n",
    "v = np.sqrt(2.)/2 * (nvec[:,0] + nvec[:,1])\n",
    "target = (lam[0] + lam[1])/2.\n",
    "rel = rayleigh(A, v)\n",
    "\n",
    "print(template.format(target,rel,test_equal(target,rel)))\n"
   ]
  },
  {
   "cell_type": "markdown",
   "metadata": {},
   "source": [
    "### Exercise 4: Conversion from MATLAB\n",
    "\n",
    "You may already have some MATLAB code that you want to migrate to python.  Using the `matrix` type is a quick and dirty way, though using `array` is the _highly_ recommended way.\n",
    "\n",
    "Using the `array` type, try converting this MATLAB code segment into python\n",
    "\n",
    "```matlab\n",
    "x = linspace(0,10,11)';\n",
    "x2 = x.*x;              # generates a list of x^2\n",
    "one = ones(11,1);       # a vector full of ones\n",
    "y = sin(pi*x/10);\n",
    "\n",
    "A = [ one'*one, one'*x, one'*x2\n",
    "        x'*one,   x'*x,   x'*x2\n",
    "       x2'*one,  x2'*x,  x2'*x2 ];\n",
    "\n",
    "b = [ y'*one; y'*x; y'*x2 ];\n",
    "\n",
    "p = A\\b\n",
    "\n",
    "ybar = [ one, x, x2 ]*p;\n",
    "\n",
    "errvec = y-ybar;\n",
    "\n",
    "err = sqrt((errvec'*errvec)/length(x))\n",
    "```\n",
    "\n",
    "which generates\n",
    "\n",
    "~~~\n",
    "p =\n",
    "\n",
    "  -0.025578\n",
    "   0.399704\n",
    "  -0.039970\n",
    "\n",
    "err =  0.021912\n",
    "~~~\n",
    "\n",
    "**hints**:\n",
    "1. Think vector as 1D-array and matrix as 2D-array\n",
    "2. think matrix or dot product -> @\n",
    "3. the `numpy.hstack` or `numpy.vstack` function may come in handy"
   ]
  },
  {
   "cell_type": "code",
   "execution_count": 128,
   "metadata": {},
   "outputs": [
    {
     "name": "stdout",
     "output_type": "stream",
     "text": [
      "[ 0.   0.5  1.   1.5  2.   2.5  3.   3.5  4.   4.5  5.   5.5  6.   6.5\n",
      "  7.   7.5  8.   8.5  9.   9.5 10. ]\n",
      "[1. 1. 1. 1. 1. 1. 1. 1. 1. 1. 1. 1. 1. 1. 1. 1. 1. 1. 1. 1. 1.]\n",
      "[0. 0. 0. 0. 0. 0. 0. 0. 0. 0. 0. 0. 0. 0. 0. 0. 0. 0. 0. 0. 0.]\n"
     ]
    }
   ],
   "source": [
    "from numpy import linspace, sqrt, sin, ones, ones_like, zeros_like, pi, vstack, hstack\n",
    "from numpy.linalg import solve\n",
    "\n",
    "x = linspace(0,10,21)\n",
    "print(x)\n",
    "print(ones_like(x))\n",
    "print(zeros_like(x))"
   ]
  },
  {
   "cell_type": "code",
   "execution_count": 130,
   "metadata": {},
   "outputs": [],
   "source": [
    "from numpy import linspace, sqrt, sin, ones, ones_like, pi, vstack, hstack\n",
    "from numpy.linalg import solve\n",
    "\n",
    "# ***************************************************************\n",
    "# I copied the MATLAB code below for you to modify into python\n",
    "# ***************************************************************\n",
    "\n",
    "x = linspace(0,10,11)\n",
    "x2 = x*x                 # generates a list of x^2\n",
    "one = ones_like(x)       # a vector full of ones\n",
    "y = sin(pi*x/10)\n",
    "\n",
    "A = array(\n",
    "    [ [one @ one, one @ x, one @ x2],\n",
    "      [ x @ one,    x @ x,   x @ x2],\n",
    "      [ x2 @ one,  x2 @ x,  x2 @ x2] ]\n",
    "    )\n",
    "\n",
    "b = array( [ y @ one, y @ x, y @ x2 ] )\n",
    "\n",
    "# solve A @ p = b\n",
    "p = solve( A, b )\n",
    "\n",
    "#\n",
    "ybar = p @ array( [ one, x, x2 ] )\n",
    "\n",
    "errvec = y - ybar\n",
    "\n",
    "err = sqrt((errvec @ errvec)/len(x))"
   ]
  },
  {
   "cell_type": "markdown",
   "metadata": {},
   "source": [
    "1 x1 y1\n",
    "1 x2 y2\n",
    "1 x3 y3\n",
    "1 x4 y4\n",
    "\n",
    "[ [1 1 1 1], [x1 x2 x3 x4], [y1 y2 y3 y4]]\n",
    "\n",
    " 1  1  1  1\n",
    "x1 x2 x3 x4\n",
    "y1 y2 y3 y4"
   ]
  },
  {
   "cell_type": "code",
   "execution_count": 133,
   "metadata": {},
   "outputs": [
    {
     "data": {
      "image/png": "[encoded data removed]",
      "text/plain": [
       "<Figure size 432x288 with 1 Axes>"
      ]
     },
     "metadata": {
      "needs_background": "light"
     },
     "output_type": "display_data"
    }
   ],
   "source": [
    "import matplotlib.pyplot as plt\n",
    "\n",
    "plt.plot(x,y,'or', label='raw data')\n",
    "plt.plot(x,ybar,'-b', label='quadratic lsq-fit')\n",
    "plt.grid()\n",
    "plt.legend()\n",
    "plt.show()"
   ]
  },
  {
   "cell_type": "markdown",
   "metadata": {},
   "source": [
    "## Homework questions\n",
    "\n",
    "We can all learn from your questions!"
   ]
  },
  {
   "cell_type": "code",
   "execution_count": null,
   "metadata": {},
   "outputs": [],
   "source": []
  }
 ],
 "metadata": {
  "kernelspec": {
   "display_name": "Python 3 (ipykernel)",
   "language": "python",
   "name": "python3"
  },
  "language_info": {
   "codemirror_mode": {
    "name": "ipython",
    "version": 3
   },
   "file_extension": ".py",
   "mimetype": "text/x-python",
   "name": "python",
   "nbconvert_exporter": "python",
   "pygments_lexer": "ipython3",
   "version": "3.10.8"
  }
 },
 "nbformat": 4,
 "nbformat_minor": 4
}
