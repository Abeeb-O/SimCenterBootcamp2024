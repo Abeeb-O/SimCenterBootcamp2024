{
 "cells": [
  {
   "cell_type": "code",
   "execution_count": 1,
   "id": "7e0f2304",
   "metadata": {},
   "outputs": [],
   "source": [
    "import pandas as pd"
   ]
  },
  {
   "cell_type": "code",
   "execution_count": 6,
   "id": "120b15e4",
   "metadata": {},
   "outputs": [],
   "source": [
    "df = pd.read_csv(\"exercise6_data.csv\", header=None, names=['x','y1','y2','y3'])"
   ]
  },
  {
   "cell_type": "code",
   "execution_count": 7,
   "id": "5c266db2",
   "metadata": {},
   "outputs": [
    {
     "data": {
      "text/html": [
       "<div>\n",
       "<style scoped>\n",
       "    .dataframe tbody tr th:only-of-type {\n",
       "        vertical-align: middle;\n",
       "    }\n",
       "\n",
       "    .dataframe tbody tr th {\n",
       "        vertical-align: top;\n",
       "    }\n",
       "\n",
       "    .dataframe thead th {\n",
       "        text-align: right;\n",
       "    }\n",
       "</style>\n",
       "<table border=\"1\" class=\"dataframe\">\n",
       "  <thead>\n",
       "    <tr style=\"text-align: right;\">\n",
       "      <th></th>\n",
       "      <th>x</th>\n",
       "      <th>y1</th>\n",
       "      <th>y2</th>\n",
       "      <th>y3</th>\n",
       "    </tr>\n",
       "  </thead>\n",
       "  <tbody>\n",
       "    <tr>\n",
       "      <th>0</th>\n",
       "      <td>17.956872</td>\n",
       "      <td>1557.629314</td>\n",
       "      <td>1.191594</td>\n",
       "      <td>1.059355</td>\n",
       "    </tr>\n",
       "    <tr>\n",
       "      <th>1</th>\n",
       "      <td>21.308282</td>\n",
       "      <td>6.280450</td>\n",
       "      <td>4.313743</td>\n",
       "      <td>0.677864</td>\n",
       "    </tr>\n",
       "    <tr>\n",
       "      <th>2</th>\n",
       "      <td>8.074324</td>\n",
       "      <td>13.766478</td>\n",
       "      <td>5.395858</td>\n",
       "      <td>1.714479</td>\n",
       "    </tr>\n",
       "    <tr>\n",
       "      <th>3</th>\n",
       "      <td>12.979895</td>\n",
       "      <td>486.783152</td>\n",
       "      <td>5.925345</td>\n",
       "      <td>0.056946</td>\n",
       "    </tr>\n",
       "    <tr>\n",
       "      <th>4</th>\n",
       "      <td>10.056081</td>\n",
       "      <td>75.917966</td>\n",
       "      <td>3.499591</td>\n",
       "      <td>1.580624</td>\n",
       "    </tr>\n",
       "    <tr>\n",
       "      <th>...</th>\n",
       "      <td>...</td>\n",
       "      <td>...</td>\n",
       "      <td>...</td>\n",
       "      <td>...</td>\n",
       "    </tr>\n",
       "    <tr>\n",
       "      <th>995</th>\n",
       "      <td>8.434837</td>\n",
       "      <td>23980.895210</td>\n",
       "      <td>1.263558</td>\n",
       "      <td>1.105844</td>\n",
       "    </tr>\n",
       "    <tr>\n",
       "      <th>996</th>\n",
       "      <td>18.205693</td>\n",
       "      <td>2540.601341</td>\n",
       "      <td>4.013380</td>\n",
       "      <td>1.461180</td>\n",
       "    </tr>\n",
       "    <tr>\n",
       "      <th>997</th>\n",
       "      <td>10.283983</td>\n",
       "      <td>521.159597</td>\n",
       "      <td>2.221041</td>\n",
       "      <td>2.334535</td>\n",
       "    </tr>\n",
       "    <tr>\n",
       "      <th>998</th>\n",
       "      <td>14.495409</td>\n",
       "      <td>10.929630</td>\n",
       "      <td>5.014856</td>\n",
       "      <td>2.924479</td>\n",
       "    </tr>\n",
       "    <tr>\n",
       "      <th>999</th>\n",
       "      <td>9.645098</td>\n",
       "      <td>50.954212</td>\n",
       "      <td>1.733804</td>\n",
       "      <td>2.433388</td>\n",
       "    </tr>\n",
       "  </tbody>\n",
       "</table>\n",
       "<p>1000 rows × 4 columns</p>\n",
       "</div>"
      ],
      "text/plain": [
       "             x            y1        y2        y3\n",
       "0    17.956872   1557.629314  1.191594  1.059355\n",
       "1    21.308282      6.280450  4.313743  0.677864\n",
       "2     8.074324     13.766478  5.395858  1.714479\n",
       "3    12.979895    486.783152  5.925345  0.056946\n",
       "4    10.056081     75.917966  3.499591  1.580624\n",
       "..         ...           ...       ...       ...\n",
       "995   8.434837  23980.895210  1.263558  1.105844\n",
       "996  18.205693   2540.601341  4.013380  1.461180\n",
       "997  10.283983    521.159597  2.221041  2.334535\n",
       "998  14.495409     10.929630  5.014856  2.924479\n",
       "999   9.645098     50.954212  1.733804  2.433388\n",
       "\n",
       "[1000 rows x 4 columns]"
      ]
     },
     "execution_count": 7,
     "metadata": {},
     "output_type": "execute_result"
    }
   ],
   "source": [
    "df"
   ]
  },
  {
   "cell_type": "code",
   "execution_count": 13,
   "id": "7a66f150",
   "metadata": {},
   "outputs": [
    {
     "data": {
      "text/plain": [
       "<AxesSubplot:xlabel='x'>"
      ]
     },
     "execution_count": 13,
     "metadata": {},
     "output_type": "execute_result"
    },
    {
     "data": {
      "image/png": "[encoded data removed]",
      "text/plain": [
       "<Figure size 432x288 with 1 Axes>"
      ]
     },
     "metadata": {
      "needs_background": "light"
     },
     "output_type": "display_data"
    }
   ],
   "source": [
    "df.plot('x','y1', ls='', marker='+', color='b')"
   ]
  },
  {
   "cell_type": "code",
   "execution_count": null,
   "id": "a2b179b7",
   "metadata": {},
   "outputs": [],
   "source": []
  }
 ],
 "metadata": {
  "kernelspec": {
   "display_name": "Python 3 (ipykernel)",
   "language": "python",
   "name": "python3"
  },
  "language_info": {
   "codemirror_mode": {
    "name": "ipython",
    "version": 3
   },
   "file_extension": ".py",
   "mimetype": "text/x-python",
   "name": "python",
   "nbconvert_exporter": "python",
   "pygments_lexer": "ipython3",
   "version": "3.10.8"
  }
 },
 "nbformat": 4,
 "nbformat_minor": 5
}
