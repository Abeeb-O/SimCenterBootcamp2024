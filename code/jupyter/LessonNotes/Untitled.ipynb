{
 "cells": [
  {
   "cell_type": "code",
   "execution_count": 1,
   "id": "9e96eb0c",
   "metadata": {},
   "outputs": [],
   "source": [
    "def F(x,y):\n",
    "    z = x + y\n",
    "    return z"
   ]
  },
  {
   "cell_type": "code",
   "execution_count": 2,
   "id": "0ba6c749",
   "metadata": {},
   "outputs": [
    {
     "name": "stdout",
     "output_type": "stream",
     "text": [
      "6\n"
     ]
    }
   ],
   "source": [
    "print( F(2,4))"
   ]
  },
  {
   "cell_type": "code",
   "execution_count": 5,
   "id": "12876029",
   "metadata": {},
   "outputs": [],
   "source": [
    "import numpy as np\n",
    "\n",
    "x = np.linspace(0,10,10)\n",
    "y = np.linspace(7, 42, 10)"
   ]
  },
  {
   "cell_type": "code",
   "execution_count": 8,
   "id": "ed91d800",
   "metadata": {},
   "outputs": [],
   "source": [
    "z = []\n",
    "for a,b in zip(x,y):\n",
    "    z.append( F(a,b) )"
   ]
  },
  {
   "cell_type": "code",
   "execution_count": 10,
   "id": "2f712743",
   "metadata": {},
   "outputs": [
    {
     "data": {
      "text/plain": [
       "array([ 7., 12., 17., 22., 27., 32., 37., 42., 47., 52.])"
      ]
     },
     "execution_count": 10,
     "metadata": {},
     "output_type": "execute_result"
    }
   ],
   "source": [
    "np.array(z)"
   ]
  },
  {
   "cell_type": "code",
   "execution_count": 11,
   "id": "fdac4ccb",
   "metadata": {},
   "outputs": [],
   "source": [
    "a=3.141\n",
    "b=[1,2,\"Peter\"]"
   ]
  },
  {
   "cell_type": "code",
   "execution_count": 12,
   "id": "71987ad9",
   "metadata": {},
   "outputs": [
    {
     "name": "stdout",
     "output_type": "stream",
     "text": [
      "3.141\n"
     ]
    }
   ],
   "source": [
    "print(a)\n"
   ]
  },
  {
   "cell_type": "code",
   "execution_count": 13,
   "id": "9c4ebb9f",
   "metadata": {},
   "outputs": [
    {
     "name": "stdout",
     "output_type": "stream",
     "text": [
      "[1, 2, 'Peter']\n"
     ]
    }
   ],
   "source": [
    "print(b)"
   ]
  },
  {
   "cell_type": "code",
   "execution_count": 14,
   "id": "9cfa3633",
   "metadata": {},
   "outputs": [
    {
     "data": {
      "text/plain": [
       "'3.141'"
      ]
     },
     "execution_count": 14,
     "metadata": {},
     "output_type": "execute_result"
    }
   ],
   "source": [
    "str(a)"
   ]
  },
  {
   "cell_type": "code",
   "execution_count": 15,
   "id": "bdded482",
   "metadata": {},
   "outputs": [
    {
     "data": {
      "text/plain": [
       "\"[1, 2, 'Peter']\""
      ]
     },
     "execution_count": 15,
     "metadata": {},
     "output_type": "execute_result"
    }
   ],
   "source": [
    "str(b)"
   ]
  },
  {
   "cell_type": "code",
   "execution_count": 18,
   "id": "4ed7194d",
   "metadata": {},
   "outputs": [
    {
     "name": "stdout",
     "output_type": "stream",
     "text": [
      "3.141\n",
      "[1, 2, 'Peter']\n"
     ]
    }
   ],
   "source": [
    "print(float.__str__(a))\n",
    "print(list.__str__(b))"
   ]
  },
  {
   "cell_type": "code",
   "execution_count": null,
   "id": "a5253d62",
   "metadata": {},
   "outputs": [],
   "source": []
  }
 ],
 "metadata": {
  "kernelspec": {
   "display_name": "Python 3 (ipykernel)",
   "language": "python",
   "name": "python3"
  },
  "language_info": {
   "codemirror_mode": {
    "name": "ipython",
    "version": 3
   },
   "file_extension": ".py",
   "mimetype": "text/x-python",
   "name": "python",
   "nbconvert_exporter": "python",
   "pygments_lexer": "ipython3",
   "version": "3.10.8"
  }
 },
 "nbformat": 4,
 "nbformat_minor": 5
}
