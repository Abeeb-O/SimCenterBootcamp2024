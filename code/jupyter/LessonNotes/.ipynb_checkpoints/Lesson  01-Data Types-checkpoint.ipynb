{
 "cells": [
  {
   "cell_type": "markdown",
   "metadata": {},
   "source": [
    "# A Python Quick Start Tutorial\n",
    "# Lesson \\#1: Basic data types and functions\n",
    "## by Peter Mackenzie-Helnwein\n",
    "University of Washington, Seattle, WA\n",
    "\n",
    "pmackenz@uw.edu          \n",
    "https://www.ce.washington.edu/facultyfinder/peter-mackenzie-helnwein"
   ]
  },
  {
   "cell_type": "markdown",
   "metadata": {},
   "source": [
    "## Resources\n",
    "\n",
    "   1. Python Docs: https://docs.python.org/3/\n",
    "   \n",
    "   1. Python Tutorial (comprehensive): https://docs.python.org/3/tutorial/index.html\n",
    "   \n",
    "   1. Python Library Reference (the nitty-gritty details): https://docs.python.org/3/library/index.html\n",
    "   \n",
    "   1. Everything else: http://google.com\n",
    "   "
   ]
  },
  {
   "cell_type": "markdown",
   "metadata": {},
   "source": [
    "## Discussing questions from the self-study assignment\n",
    "\n",
    "This section is to discuss your questions\n"
   ]
  },
  {
   "cell_type": "markdown",
   "metadata": {},
   "source": [
    "### Exercise 1\n",
    "\n",
    "**Theory**:\n",
    "Stress transformation\n",
    "\n",
    "$$\n",
    "\\begin{aligned}\n",
    "\\sigma_{x}' &= \\sigma_{x} \\cos^2\\theta + \\sigma_{y} \\sin^2\\theta + 2\\tau_{xy} \\sin\\theta \\cos\\theta \\\\\n",
    "\\sigma_{y}' &= \\sigma_{x} \\sin^2\\theta + \\sigma_{y} \\cos^2\\theta - 2\\tau_{xy} \\sin\\theta \\cos\\theta \\\\\n",
    "\\tau_{xy}'  &= (\\sigma_{y} - \\sigma_{x}) \\sin\\theta \\cos\\theta + \\tau_{xy} (\\cos^2\\theta - \\sin^2\\theta) \\\\\n",
    "\\end{aligned}\n",
    "$$\n",
    "\n",
    "**Given**:\n",
    "Stress state:\n",
    "\n",
    "$$\n",
    "\\sigma_{x} = 12~ksi~,\n",
    "~~~\n",
    "\\sigma_{y} = -5.5~ksi~,\n",
    "~~~\n",
    "\\tau_{xy} = 3.5~ksi \n",
    "$$\n",
    "\n",
    "**Find**:\n",
    "Components of stress in a rotated coordinate system for $\\theta=25^\\circ$."
   ]
  },
  {
   "cell_type": "code",
   "execution_count": 1,
   "metadata": {},
   "outputs": [],
   "source": [
    "# theta needs to be in radians\n",
    "# sin and cos are not part of phython\n",
    "\n",
    "from math import sin, cos, pi, radians"
   ]
  },
  {
   "cell_type": "code",
   "execution_count": 2,
   "metadata": {},
   "outputs": [
    {
     "data": {
      "text/plain": [
       "1.5707963267948966"
      ]
     },
     "execution_count": 2,
     "metadata": {},
     "output_type": "execute_result"
    }
   ],
   "source": [
    "radians(90)"
   ]
  },
  {
   "cell_type": "code",
   "execution_count": 3,
   "metadata": {},
   "outputs": [],
   "source": [
    "sigmax = 12.\n",
    "sigmay = -5.5\n",
    "tau    =  3.5"
   ]
  },
  {
   "cell_type": "code",
   "execution_count": 4,
   "metadata": {},
   "outputs": [],
   "source": [
    "theta = radians( 25. )\n",
    "\n",
    "cs = cos(theta)\n",
    "sn = sin(theta)\n",
    "\n",
    "sigmaxp = sigmax * cs**2 + sigmay * sn**2 + 2 * tau * sn * cs\n",
    "sigmayp = sigmax * sn**2 + sigmay * cs**2 - 2 * tau * sn * cs\n",
    "taup    = (sigmay - sigmax) * sn * cs + tau * (cs*cs - sn*sn)"
   ]
  },
  {
   "cell_type": "code",
   "execution_count": 5,
   "metadata": {},
   "outputs": [
    {
     "name": "stdout",
     "output_type": "stream",
     "text": [
      "sigx'=   11.555547, sigy'=-5.055547, tau'=-4.453132\n"
     ]
    }
   ],
   "source": [
    "print(f\"sigx'={sigmaxp:12.6f}, sigy'={sigmayp:.6f}, tau'={taup:.6f}\")"
   ]
  },
  {
   "cell_type": "markdown",
   "metadata": {},
   "source": [
    "### Exercise 2\n",
    "\n",
    "Convert the calculation from exercise 1 to a function"
   ]
  },
  {
   "cell_type": "code",
   "execution_count": 6,
   "metadata": {},
   "outputs": [],
   "source": [
    "def stressTransform(sigx, sigy, tauxy, theta):\n",
    "    # YOUR CODE\n",
    "    cs = cos(radians(theta))\n",
    "    sn = sin(radians(theta))\n",
    "\n",
    "    sx  = sigx * cs**2 + sigy * sn**2 + 2 * tauxy * sn * cs\n",
    "    sy  = sigx * sn**2 + sigy * cs**2 - 2 * tauxy * sn * cs\n",
    "    txy = (sigy - sigx) * sn * cs + tauxy * (cs*cs - sn*sn)\n",
    "    \n",
    "    return (sx,sy,txy)"
   ]
  },
  {
   "cell_type": "markdown",
   "metadata": {},
   "source": [
    "Test your function for \n",
    "\n",
    "* $\\theta=0$ (what should the result look like?)\n",
    "* $\\theta=25^\\circ$\n",
    "* $\\theta=180^\\circ$"
   ]
  },
  {
   "cell_type": "code",
   "execution_count": 7,
   "metadata": {},
   "outputs": [
    {
     "name": "stdout",
     "output_type": "stream",
     "text": [
      "sigx'=12.000000, sigy'=-5.500000, tau'=3.500000\n"
     ]
    }
   ],
   "source": [
    "s1,s2,s3 = stressTransform(12., -5.5, 3.5, 0.0)\n",
    "\n",
    "print(f\"sigx'={s1:.6f}, sigy'={s2:.6f}, tau'={s3:.6f}\")"
   ]
  },
  {
   "cell_type": "code",
   "execution_count": 8,
   "metadata": {},
   "outputs": [
    {
     "name": "stdout",
     "output_type": "stream",
     "text": [
      "sigx'=12.000000, sigy'=-5.500000, tau'=3.500000\n"
     ]
    }
   ],
   "source": [
    "stress = stressTransform(12., -5.5, 3.5, 0.0)\n",
    "\n",
    "print(f\"sigx'={stress[0]:.6f}, sigy'={stress[1]:.6f}, tau'={stress[2]:.6f}\")"
   ]
  },
  {
   "cell_type": "code",
   "execution_count": 9,
   "metadata": {},
   "outputs": [
    {
     "name": "stdout",
     "output_type": "stream",
     "text": [
      "sigx'=12.000000, sigy'=-5.500000, tau'=3.500000\n"
     ]
    }
   ],
   "source": [
    "stress = stressTransform(12., -5.5, 3.5, 0.0)\n",
    "\n",
    "print(\"sigx'={:.6f}, sigy'={:.6f}, tau'={:.6f}\".format(*stress))"
   ]
  },
  {
   "cell_type": "code",
   "execution_count": 10,
   "metadata": {},
   "outputs": [
    {
     "name": "stdout",
     "output_type": "stream",
     "text": [
      "theta=   0.00: sigx'=   12.000000, sigy'=   -5.500000, tau'=    3.500000\n",
      "theta=  25.00: sigx'=   11.555547, sigy'=   -5.055547, tau'=   -4.453132\n",
      "theta=  90.00: sigx'=   -5.500000, sigy'=   12.000000, tau'=   -3.500000\n",
      "theta= 135.00: sigx'=   -0.250000, sigy'=    6.750000, tau'=    8.750000\n",
      "theta= 180.00: sigx'=   12.000000, sigy'=   -5.500000, tau'=    3.500000\n"
     ]
    }
   ],
   "source": [
    "template = \"theta={:7.2f}: sigx'={:12.6f}, sigy'={:12.6f}, tau'={:12.6f}\"\n",
    "\n",
    "thetas = [0.0, 25., 90., 135., 180.]\n",
    "\n",
    "for theta in thetas:\n",
    "    stress = stressTransform(12., -5.5, 3.5, theta)\n",
    "    print(template.format(theta, *stress))\n",
    "    #print(template.format(theta, stress[0], stress[1], stress[2]))"
   ]
  },
  {
   "cell_type": "code",
   "execution_count": 11,
   "metadata": {},
   "outputs": [
    {
     "name": "stdout",
     "output_type": "stream",
     "text": [
      "sigx'=   12.000000, sigy'=   -5.500000, tau'=    3.500000 : theta=   0.00\n",
      "sigx'=   11.555547, sigy'=   -5.055547, tau'=   -4.453132 : theta=  25.00\n",
      "sigx'=   -5.500000, sigy'=   12.000000, tau'=   -3.500000 : theta=  90.00\n",
      "sigx'=   -0.250000, sigy'=    6.750000, tau'=    8.750000 : theta= 135.00\n",
      "sigx'=   12.000000, sigy'=   -5.500000, tau'=    3.500000 : theta= 180.00\n"
     ]
    }
   ],
   "source": [
    "template = \"sigx'={:12.6f}, sigy'={:12.6f}, tau'={:12.6f} : theta={:7.2f}\"\n",
    "\n",
    "thetas = [0.0, 25., 90., 135., 180.]\n",
    "\n",
    "for theta in thetas:\n",
    "    stress = stressTransform(12., -5.5, 3.5, theta)\n",
    "    print(template.format(*stress, theta))"
   ]
  },
  {
   "cell_type": "code",
   "execution_count": 12,
   "metadata": {},
   "outputs": [
    {
     "name": "stdout",
     "output_type": "stream",
     "text": [
      "sigx'=   12.000000, sigy'=   -5.500000, tau'=    3.500000 : theta=   0.00\n",
      "sigx'=   11.555547, sigy'=   -5.055547, tau'=   -4.453132 : theta=  25.00\n",
      "sigx'=   -5.500000, sigy'=   12.000000, tau'=   -3.500000 : theta=  90.00\n",
      "sigx'=   -0.250000, sigy'=    6.750000, tau'=    8.750000 : theta= 135.00\n",
      "sigx'=   12.000000, sigy'=   -5.500000, tau'=    3.500000 : theta= 180.00\n"
     ]
    }
   ],
   "source": [
    "template = \"sigx'={sxx:12.6f}, sigy'={syy:12.6f}, tau'={sxy:12.6f} : theta={th:7.2f}\"\n",
    "\n",
    "thetas = [0.0, 25., 90., 135., 180.]\n",
    "\n",
    "for theta in thetas:\n",
    "    stress = stressTransform(12., -5.5, 3.5, theta)\n",
    "    print(template.format(th=theta, sxy=stress[2], sxx=stress[0], syy=stress[1]))"
   ]
  },
  {
   "cell_type": "markdown",
   "metadata": {},
   "source": [
    "### Exercise 3\n",
    "\n",
    "Let's use this function to study stress transformation.  In order to do so,\n",
    "\n",
    "1. Create a list of 81 evenly spaced $\\theta$-values from $0^\\circ$ to $180^\\circ$.\n",
    "2. Compute the transformed stress for each of these values and collect the results in three lists: \n",
    "\n",
    "       sigmax_values = ...\n",
    "       sigmay_values = ...\n",
    "       tauxy_values = ...\n",
    "\n",
    "3. print a nice table with 4 columns: $\\theta$, $\\sigma_x'$, $\\sigma_y'$, $\\tau_{xy}'$"
   ]
  },
  {
   "cell_type": "code",
   "execution_count": 13,
   "metadata": {},
   "outputs": [
    {
     "name": "stdout",
     "output_type": "stream",
     "text": [
      "      0.0000       12.0000       -5.5000        3.5000\n",
      "      2.2500       12.2476       -5.7476        2.8027\n",
      "      4.5000       12.4398       -5.9398        2.0881\n",
      "      6.7500       12.5753       -6.0753        1.3606\n",
      "      9.0000       12.6533       -6.1533        0.6248\n",
      "     11.2500       12.6733       -6.1733       -0.1149\n",
      "     13.5000       12.6353       -6.1353       -0.8539\n",
      "     15.7500       12.5393       -6.0393       -1.5876\n",
      "     18.0000       12.3861       -5.8861       -2.3116\n",
      "     20.2500       12.1766       -5.6766       -3.0212\n",
      "     22.5000       11.9121       -5.4121       -3.7123\n",
      "     24.7500       11.5941       -5.0941       -4.3805\n",
      "     27.0000       11.2247       -4.7247       -5.0217\n",
      "     29.2500       10.8061       -4.3061       -5.6319\n",
      "     31.5000       10.3409       -3.8409       -6.2073\n",
      "     33.7500        9.8321       -3.3321       -6.7446\n",
      "     36.0000        9.2826       -2.7826       -7.2402\n",
      "     38.2500        8.6959       -2.1959       -7.6912\n",
      "     40.5000        8.0757       -1.5757       -8.0948\n",
      "     42.7500        7.4257       -0.9257       -8.4484\n",
      "     45.0000        6.7500       -0.2500       -8.7500\n",
      "     47.2500        6.0527        0.4473       -8.9976\n",
      "     49.5000        5.3381        1.1619       -9.1898\n",
      "     51.7500        4.6106        1.8894       -9.3253\n",
      "     54.0000        3.8748        2.6252       -9.4033\n",
      "     56.2500        3.1351        3.3649       -9.4233\n",
      "     58.5000        2.3961        4.1039       -9.3853\n",
      "     60.7500        1.6624        4.8376       -9.2893\n",
      "     63.0000        0.9384        5.5616       -9.1361\n",
      "     65.2500        0.2288        6.2712       -8.9266\n",
      "     67.5000       -0.4623        6.9623       -8.6621\n",
      "     69.7500       -1.1305        7.6305       -8.3441\n",
      "     72.0000       -1.7717        8.2717       -7.9747\n",
      "     74.2500       -2.3819        8.8819       -7.5561\n",
      "     76.5000       -2.9573        9.4573       -7.0909\n",
      "     78.7500       -3.4946        9.9946       -6.5821\n",
      "     81.0000       -3.9902       10.4902       -6.0326\n",
      "     83.2500       -4.4412       10.9412       -5.4459\n",
      "     85.5000       -4.8448       11.3448       -4.8257\n",
      "     87.7500       -5.1984       11.6984       -4.1757\n",
      "     90.0000       -5.5000       12.0000       -3.5000\n",
      "     92.2500       -5.7476       12.2476       -2.8027\n",
      "     94.5000       -5.9398       12.4398       -2.0881\n",
      "     96.7500       -6.0753       12.5753       -1.3606\n",
      "     99.0000       -6.1533       12.6533       -0.6248\n",
      "    101.2500       -6.1733       12.6733        0.1149\n",
      "    103.5000       -6.1353       12.6353        0.8539\n",
      "    105.7500       -6.0393       12.5393        1.5876\n",
      "    108.0000       -5.8861       12.3861        2.3116\n",
      "    110.2500       -5.6766       12.1766        3.0212\n",
      "    112.5000       -5.4121       11.9121        3.7123\n",
      "    114.7500       -5.0941       11.5941        4.3805\n",
      "    117.0000       -4.7247       11.2247        5.0217\n",
      "    119.2500       -4.3061       10.8061        5.6319\n",
      "    121.5000       -3.8409       10.3409        6.2073\n",
      "    123.7500       -3.3321        9.8321        6.7446\n",
      "    126.0000       -2.7826        9.2826        7.2402\n",
      "    128.2500       -2.1959        8.6959        7.6912\n",
      "    130.5000       -1.5757        8.0757        8.0948\n",
      "    132.7500       -0.9257        7.4257        8.4484\n",
      "    135.0000       -0.2500        6.7500        8.7500\n",
      "    137.2500        0.4473        6.0527        8.9976\n",
      "    139.5000        1.1619        5.3381        9.1898\n",
      "    141.7500        1.8894        4.6106        9.3253\n",
      "    144.0000        2.6252        3.8748        9.4033\n",
      "    146.2500        3.3649        3.1351        9.4233\n",
      "    148.5000        4.1039        2.3961        9.3853\n",
      "    150.7500        4.8376        1.6624        9.2893\n",
      "    153.0000        5.5616        0.9384        9.1361\n",
      "    155.2500        6.2712        0.2288        8.9266\n",
      "    157.5000        6.9623       -0.4623        8.6621\n",
      "    159.7500        7.6305       -1.1305        8.3441\n",
      "    162.0000        8.2717       -1.7717        7.9747\n",
      "    164.2500        8.8819       -2.3819        7.5561\n",
      "    166.5000        9.4573       -2.9573        7.0909\n",
      "    168.7500        9.9946       -3.4946        6.5821\n",
      "    171.0000       10.4902       -3.9902        6.0326\n",
      "    173.2500       10.9412       -4.4412        5.4459\n",
      "    175.5000       11.3448       -4.8448        4.8257\n",
      "    177.7500       11.6984       -5.1984        4.1757\n",
      "    180.0000       12.0000       -5.5000        3.5000\n"
     ]
    }
   ],
   "source": [
    "\n",
    "\n",
    "sigmax_values = []\n",
    "sigmay_values = []\n",
    "tauxy_values  = []\n",
    "\n",
    "# YOUR CODE for 1.\n",
    "\n",
    "Nsteps = 80\n",
    "dtheta = 180/Nsteps\n",
    "\n",
    "thetas = [ 0.0 ]\n",
    "for i in range(Nsteps):\n",
    "    thetas.append( thetas[-1] + dtheta )\n",
    "    \n",
    "#print(thetas, len(thetas))\n",
    "\n",
    "# YOUR CODE for 2.\n",
    "\n",
    "for theta in thetas:\n",
    "    stress = stressTransform(12., -5.5, 3.5, theta)\n",
    "    sigmax_values.append(stress[0])\n",
    "    sigmay_values.append(stress[1])\n",
    "    tauxy_values.append(stress[2])\n",
    "    \n",
    "#print(sigmax_values)\n",
    "\n",
    "# YOUR CODE for 3.\n",
    "\n",
    "template = \"{:12.4f}  {:12.4f}  {:12.4f}  {:12.4f}\"\n",
    "\n",
    "#for i in range(len(thetas)):\n",
    "#    print(template.format(thetas[i], sigmax_values[i], sigmay_values[i], tauxy_values[i]))\n",
    "\n",
    "for data in zip(thetas, sigmax_values, sigmay_values, tauxy_values):\n",
    "    print(template.format(*data))"
   ]
  },
  {
   "cell_type": "markdown",
   "metadata": {},
   "source": [
    "### Exercise 4: Explore plotting in python\n",
    "\n",
    "For this, check out https://matplotlib.org/3.1.1/gallery/lines_bars_and_markers/simple_plot.html#sphx-glr-gallery-lines-bars-and-markers-simple-plot-py\n",
    "\n",
    "I copied the demo code below so you can modify it to plot $(\\sigma_{x}'/\\tau_{xy}')$ and  $(\\sigma_{y}'/-\\tau_{xy}')$ curves from the data collected in `sigmax_values`, `sigmay_values`, `tauxy_values`"
   ]
  },
  {
   "cell_type": "code",
   "execution_count": 14,
   "metadata": {},
   "outputs": [
    {
     "data": {
      "image/png": "[encoded data removed]",
      "text/plain": [
       "<Figure size 432x288 with 1 Axes>"
      ]
     },
     "metadata": {
      "needs_background": "light"
     },
     "output_type": "display_data"
    }
   ],
   "source": [
    "#import matplotlib\n",
    "import matplotlib.pyplot as plt\n",
    "\n",
    "fig, ax = plt.subplots()\n",
    "ax.plot(sigmax_values, tauxy_values)\n",
    "\n",
    "ax.set(xlabel='time (s)', ylabel='voltage (mV)',\n",
    "       title='About as simple as it gets, folks')\n",
    "ax.grid()\n",
    "ax.set_aspect('equal')\n",
    "\n",
    "# I comment writing the figure to file ... makes this quicker\n",
    "# fig.savefig(\"test.png\")\n",
    "plt.show()"
   ]
  },
  {
   "cell_type": "markdown",
   "metadata": {},
   "source": [
    "**Remark**: This was just to wet your appetite! We will talk much more about `numpy` and `matplotlib` next week."
   ]
  },
  {
   "cell_type": "markdown",
   "metadata": {},
   "source": [
    "## Exercise 5: List versus dictionary\n",
    "\n",
    "You could express the stress state as\n",
    "\n",
    "1. three independent variables - the way we did it thus far\n",
    "\n",
    "2. a list of three values: `stress = `$[\\sigma_x, \\sigma_y, \\tau_{xy}]$ and replace\n",
    "\n",
    "        sigma_x --> stress[0]\n",
    "        sigma_y --> stress[2]\n",
    "        tau_xy  --> stress[3]\n",
    "        \n",
    "3. a dictionary \n",
    "\n",
    "        stress = {'sigx': 12.0, 'sigy': -5.5, 'tau':3.50}\n",
    "        \n",
    "   and replace\n",
    "\n",
    "        sigma_x --> stress['sigx']\n",
    "        sigma_y --> stress['sigy']\n",
    "        tau_xy  --> stress['tau']\n",
    "\n",
    "**Discuss**:\n",
    "\n",
    "1. Pros and cons for coding the equations\n",
    "2. Pros and cons for coding the function(s)\n",
    "3. How woud code and function change when switching from 2D to 3D (6 components instead of 3 components)\n",
    "\n",
    "Feel free to implement an alternative form of stressTrannsform() that looks like this:"
   ]
  },
  {
   "cell_type": "code",
   "execution_count": 15,
   "metadata": {},
   "outputs": [],
   "source": [
    "def stressTransform(stress, theta):\n",
    "    # YOUR CODE\n",
    "    # stress2 is a list or dictionary, just as stress is\n",
    "    \n",
    "    return stress2"
   ]
  },
  {
   "cell_type": "code",
   "execution_count": null,
   "metadata": {},
   "outputs": [],
   "source": []
  },
  {
   "cell_type": "markdown",
   "metadata": {},
   "source": [
    "## Homework questions\n",
    "\n",
    "We can all learn from your questions!"
   ]
  },
  {
   "cell_type": "code",
   "execution_count": null,
   "metadata": {},
   "outputs": [],
   "source": []
  }
 ],
 "metadata": {
  "kernelspec": {
   "display_name": "Python 3 (ipykernel)",
   "language": "python",
   "name": "python3"
  },
  "language_info": {
   "codemirror_mode": {
    "name": "ipython",
    "version": 3
   },
   "file_extension": ".py",
   "mimetype": "text/x-python",
   "name": "python",
   "nbconvert_exporter": "python",
   "pygments_lexer": "ipython3",
   "version": "3.10.8"
  }
 },
 "nbformat": 4,
 "nbformat_minor": 4
}
